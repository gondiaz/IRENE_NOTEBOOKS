{
 "cells": [
  {
   "cell_type": "code",
   "execution_count": 1,
   "metadata": {},
   "outputs": [],
   "source": [
    "import glob\n",
    "import numpy  as np\n",
    "import tables as tb\n",
    "import matplotlib.pyplot as plt\n",
    "\n",
    "from invisible_cities.database import load_db\n",
    "\n",
    "from invisible_cities.reco.corrections_new import read_maps\n",
    "from invisible_cities.reco.corrections_new import apply_all_correction\n",
    "from invisible_cities.reco.corrections_new import norm_strategy"
   ]
  },
  {
   "cell_type": "code",
   "execution_count": 2,
   "metadata": {},
   "outputs": [],
   "source": [
    "# SELECT PMAPS\n",
    "run = 7600\n",
    "pmaps_dir = f\"/home/gdiaz/IRENE_NOTEBOOKS/DATA/pmaps/{run}/trigger1/\"\n",
    "\n",
    "pmaps_files = glob.glob( pmaps_dir + \"/*\" )\n",
    "pmaps_files.sort()\n",
    "\n",
    "# SIPMs DATA\n",
    "datasipm = load_db.DataSiPM(\"new\", run)\n",
    "all_sipms = datasipm.index.get_values()\n",
    "\n",
    "X = datasipm[\"X\"].values\n",
    "Y = datasipm[\"Y\"].values\n",
    "\n",
    "# CORRECTION MAP\n",
    "maps = read_maps(\"/home/gdiaz/IRENE_NOTEBOOKS/DATA/maps/map_7600.h5\")\n",
    "total_correction = apply_all_correction(maps, apply_temp=True)\n",
    "#                                         norm_strat=norm_strategy.custom,\n",
    "#                                         norm_value=10)"
   ]
  },
  {
   "cell_type": "code",
   "execution_count": null,
   "metadata": {},
   "outputs": [],
   "source": []
  },
  {
   "cell_type": "code",
   "execution_count": 3,
   "metadata": {},
   "outputs": [
    {
     "name": "stdout",
     "output_type": "stream",
     "text": [
      "File 1 / 15\r"
     ]
    },
    {
     "name": "stderr",
     "output_type": "stream",
     "text": [
      "/home/gdiaz/miniconda/envs/IC-3.7-2018-11-14/lib/python3.7/site-packages/ipykernel_launcher.py:65: RuntimeWarning: invalid value encountered in true_divide\n"
     ]
    },
    {
     "name": "stdout",
     "output_type": "stream",
     "text": [
      "File 15 / 15\r"
     ]
    }
   ],
   "source": [
    "Uncorrected = []\n",
    "Corrected   = []\n",
    "\n",
    "n = 15\n",
    "for file_number in range(n):\n",
    "    print(f\"File {file_number+1} / {n}\", end=\"\\r\")\n",
    "    \n",
    "    pmaps = tb.open_file( pmaps_files[file_number] )\n",
    "    S1   = pmaps.root.PMAPS.S1  .read()\n",
    "    S2   = pmaps.root.PMAPS.S2  .read()\n",
    "    S2Si = pmaps.root.PMAPS.S2Si.read()\n",
    "    event_times = pmaps.root.Run.events.read()\n",
    "    \n",
    "    \n",
    "    for event_time in event_times:\n",
    "        # CUT 1S1 1S2\n",
    "        s1pks = len( np.unique(S1[ S1[\"event\"]==event_time[0] ][\"peak\"] ) )\n",
    "        s2pks = len( np.unique(S2[ S2[\"event\"]==event_time[0] ][\"peak\"] ) )\n",
    "\n",
    "        if (s1pks == 1) & (s2pks == 1):\n",
    "\n",
    "            s1pk = 0\n",
    "            s2pk = 0\n",
    "\n",
    "            # SELECT S1 WAVEFORM\n",
    "            sel = (S1[\"event\"]==event_time[0]) & (S1[\"peak\"]==s1pk)\n",
    "            s1_times = S1[sel][\"time\"]/1000\n",
    "            s1_ene   = S1[sel][\"ene\"]\n",
    "            S1_time = np.sum( s1_times * s1_ene ) / np.sum(s1_ene) \n",
    "\n",
    "\n",
    "            # SELECT S2 PMT WAVEFORM \n",
    "            sel = (S2[\"event\"]==event_time[0]) & (S2[\"peak\"]==s2pk)\n",
    "            s2_times = S2[sel][\"time\"]/1000\n",
    "\n",
    "            s2_pmt = S2[sel][\"ene\"] #/ np.sum(S2[sel][\"ene\"]*1)\n",
    "\n",
    "\n",
    "            # SELECT  S2 SIPMS WAVEFORM\n",
    "            sel = (S2Si[\"event\"]==event_time[0])&(S2Si[\"peak\"]==s2pk)\n",
    "            sipms, idxs = np.unique(S2Si[sel][\"nsipm\"], return_index=True)\n",
    "            sipm_wfs    = np.array( np.split(S2Si[sel], idxs[1:]) )\n",
    "\n",
    "            s2_sipms = sipm_wfs[\"ene\"]\n",
    "\n",
    "        else: continue\n",
    "            \n",
    "            \n",
    "        Zs = (s2_times-S1_time)/10\n",
    "        assert s2_sipms.shape[1]==Zs.shape[0]\n",
    "        \n",
    "        \n",
    "        E = []\n",
    "\n",
    "        for slide, z in enumerate(Zs):\n",
    "            sel_sipms = np.isin(all_sipms, sipms)\n",
    "\n",
    "            Z = np.full(s2_sipms.shape[0], Zs[slide])\n",
    "            T = np.full(s2_sipms.shape[0], event_time[1])\n",
    "\n",
    "            corr_tot = total_correction(X[sel_sipms], Y[sel_sipms], Z, T)\n",
    "            correction_factor = np.where(~np.isnan(corr_tot), corr_tot, 0)\n",
    "\n",
    "            qi = s2_sipms[:, slide]\n",
    "            Ecorrected = s2_pmt[slide] * np.sum( qi / np.sum(qi) * correction_factor )\n",
    "\n",
    "            E.append(Ecorrected)\n",
    "        E = np.array(E)\n",
    "        \n",
    "        \n",
    "        Uncorrected.append( np.sum(s2_pmt) )\n",
    "        \n",
    "        E = np.where(~np.isnan(E), E, 0)\n",
    "        Corrected  .append( np.sum(E)      )   \n",
    "        \n",
    "Corrected   = np.array( Corrected )\n",
    "Uncorrected = np.array( Uncorrected)"
   ]
  },
  {
   "cell_type": "code",
   "execution_count": null,
   "metadata": {},
   "outputs": [],
   "source": []
  },
  {
   "cell_type": "code",
   "execution_count": 4,
   "metadata": {},
   "outputs": [
    {
     "data": {
      "image/png": "[encoded data removed]",
      "text/plain": [
       "<Figure size 432x288 with 1 Axes>"
      ]
     },
     "metadata": {
      "needs_background": "light"
     },
     "output_type": "display_data"
    }
   ],
   "source": [
    "plt.hist(Uncorrected, bins=1000);\n",
    "plt.xlim([0, 14000]);"
   ]
  },
  {
   "cell_type": "code",
   "execution_count": 5,
   "metadata": {},
   "outputs": [
    {
     "data": {
      "image/png": "[encoded data removed]",
      "text/plain": [
       "<Figure size 432x288 with 1 Axes>"
      ]
     },
     "metadata": {
      "needs_background": "light"
     },
     "output_type": "display_data"
    }
   ],
   "source": [
    "plt.hist(Corrected, bins=1000);\n",
    "plt.xlim([0, 14000]);"
   ]
  },
  {
   "cell_type": "code",
   "execution_count": 6,
   "metadata": {},
   "outputs": [
    {
     "data": {
      "text/plain": [
       "array([12254.59152012, 12324.88304978, 10446.46482882, ...,\n",
       "        7071.17163483, 12049.68210121, 12194.84225918])"
      ]
     },
     "execution_count": 6,
     "metadata": {},
     "output_type": "execute_result"
    }
   ],
   "source": [
    "Corrected"
   ]
  },
  {
   "cell_type": "code",
   "execution_count": null,
   "metadata": {},
   "outputs": [],
   "source": []
  }
 ],
 "metadata": {
  "kernelspec": {
   "display_name": "Python 3",
   "language": "python",
   "name": "python3"
  },
  "language_info": {
   "codemirror_mode": {
    "name": "ipython",
    "version": 3
   },
   "file_extension": ".py",
   "mimetype": "text/x-python",
   "name": "python",
   "nbconvert_exporter": "python",
   "pygments_lexer": "ipython3",
   "version": "3.7.4"
  }
 },
 "nbformat": 4,
 "nbformat_minor": 2
}
